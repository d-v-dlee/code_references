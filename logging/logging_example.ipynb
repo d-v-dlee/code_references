{
 "cells": [
  {
   "cell_type": "markdown",
   "metadata": {},
   "source": [
    "# Notebook to demonstrate logging "
   ]
  },
  {
   "cell_type": "code",
   "execution_count": 1,
   "metadata": {},
   "outputs": [],
   "source": [
    "from logger import get_logger, generate_random_list\n",
    "import string\n",
    "import numpy as np"
   ]
  },
  {
   "cell_type": "code",
   "execution_count": 2,
   "metadata": {},
   "outputs": [],
   "source": [
    "# generate a random list of floats + strings\n",
    "a = generate_random_list(20)\n",
    "b = generate_random_list(20)\n",
    "c = generate_random_list(20)\n",
    "d = generate_random_list(20)\n",
    "e = generate_random_list(20)\n",
    "f = generate_random_list(20)\n",
    "g = generate_random_list(20)\n",
    "h = generate_random_list(20)\n",
    "\n",
    "# create example dict where keys are mostly ints and values are lists generated from above\n",
    "example_dict = {1: a, 'a': b, 3: c, 4: d, 5: e, 6: f,\n",
    "               7: g, 'b': h}"
   ]
  },
  {
   "cell_type": "markdown",
   "metadata": {},
   "source": [
    "#### Using this non-sense dictionary, we're going to run the function below with logging to track behavior."
   ]
  },
  {
   "cell_type": "code",
   "execution_count": 3,
   "metadata": {},
   "outputs": [],
   "source": [
    "# create logger instance\n",
    "my_logger = get_logger('example_logger')\n",
    "\n",
    "\n",
    "def some_complicated_function(example_dict, logger=my_logger):\n",
    "    \"\"\"\n",
    "    this would be some complicated function that you would want to track for bugs/progress. \n",
    "    \n",
    "    here's lets hypothetically say it works through a dictionary and divides the values by keys.\n",
    "    we are expecting all keys to be int but want to tracks keys that are not int and keep running.\n",
    "    \n",
    "    inputs\n",
    "    ------\n",
    "    example_dict: dict where keys == int and values == list of floats\n",
    "    \n",
    "    returns\n",
    "    ------\n",
    "    transformed_dict: dict where keys are all ints and values are previous values/key.\n",
    "    \"\"\"\n",
    "    transformed_dict = {}\n",
    "    for k, v in example_dict.items():\n",
    "        # check that key is equal to int type\n",
    "        if type(k) == int:\n",
    "            new_float_values = [(x / k) for x in v if str(x) not in string.ascii_letters]\n",
    "            transformed_dict[k] = new_float_values\n",
    "            if len(v) != len(new_float_values):\n",
    "                num_not_digits = len(v) - len(new_float_values)\n",
    "                logger.info(f'For key {k} there were {num_not_digits} values that are not floats.')\n",
    "        else:\n",
    "            logger.error(f'Error: Expecting key: {k} to be an integer type')\n",
    "    return transformed_dict     "
   ]
  },
  {
   "cell_type": "code",
   "execution_count": 4,
   "metadata": {},
   "outputs": [
    {
     "name": "stderr",
     "output_type": "stream",
     "text": [
      "For key 1 there were 5 values that are not floats.\n",
      "Error: Expecting key: a to be an integer type\n",
      "For key 3 there were 9 values that are not floats.\n",
      "For key 5 there were 8 values that are not floats.\n",
      "Error: Expecting key: b to be an integer type\n"
     ]
    }
   ],
   "source": [
    "transformed_dict = some_complicated_function(example_dict, my_logger)"
   ]
  },
  {
   "cell_type": "markdown",
   "metadata": {},
   "source": [
    "Through logging, I get info on whats happening in the function and also get pointed to errors.\n",
    "- Key {a} and {b} need to be an int.\n",
    "- There are some keys where all values aren't floats.\n",
    "\n",
    "\n",
    "This example is a little strange but it was meant to highlight the power of logging."
   ]
  },
  {
   "cell_type": "code",
   "execution_count": null,
   "metadata": {},
   "outputs": [],
   "source": []
  }
 ],
 "metadata": {
  "kernelspec": {
   "display_name": "Python 3",
   "language": "python",
   "name": "python3"
  },
  "language_info": {
   "codemirror_mode": {
    "name": "ipython",
    "version": 3
   },
   "file_extension": ".py",
   "mimetype": "text/x-python",
   "name": "python",
   "nbconvert_exporter": "python",
   "pygments_lexer": "ipython3",
   "version": "3.7.3"
  }
 },
 "nbformat": 4,
 "nbformat_minor": 2
}
